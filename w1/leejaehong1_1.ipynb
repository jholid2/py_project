{
 "cells": [
  {
   "cell_type": "markdown",
   "id": "c55afac6",
   "metadata": {},
   "source": [
    "# PBL 1번\n",
    "기능요구사항  파일 : scores_korean.txt (\"이름,점수\"형식으로 저장된 학생 성적 데이터)\n",
    "\n",
    "StubentScores클래스 정의\n",
    "\n",
    "생성자 : 파일을 읽고 데이터를 딕셔너리에 저장\n",
    "\n",
    "평균 점수 계산 메서드\n",
    "\n",
    "평균 이상 학생 리스트 반환 메서드\n",
    "\n",
    "평균 이하 학생 데이터를 별도 파일로 저장하는 \n",
    "메서드(below_average_korean.txt)\n",
    "\n",
    "평균 점수와 평균 이상 학생 리스트 출력 메서드"
   ]
  },
  {
   "cell_type": "code",
   "execution_count": 274,
   "id": "3d883671",
   "metadata": {},
   "outputs": [
    {
     "name": "stdout",
     "output_type": "stream",
     "text": [
      "평균 점수:86.6\n",
      "평균 이상 학생 리스트: ['박영희', '최다은', '강은지']\n"
     ]
    }
   ],
   "source": [
    "# StudentScores클래스 정의\n",
    "class StudentScores:\n",
    "    #파일을 읽고 데이터를 딕셔너리에 저장\n",
    "    def __init__(self):\n",
    "        self.stud_dict={}\n",
    "        try:\n",
    "            with open('scores_korean.txt','r',encoding='utf-8') as f:\n",
    "                    for line in f:\n",
    "                        key, value = line.strip().split(',')\n",
    "                        self.stud_dict[key] = int(value)\n",
    "\n",
    "        except FileNotFoundError:\n",
    "            print('해당 위치에 scores_korean.txt 파일이 존재 하지 않습니다.')\n",
    "        except:\n",
    "            print('에러가 발생했습니다.')\n",
    "    \n",
    "    #평균 점수 계산 메서드\n",
    "    def calculate_average(self):\n",
    "        score_sum=0\n",
    "        for score in self.stud_dict.values():\n",
    "            score_sum +=score\n",
    "        return score_sum/len(self.stud_dict.values())\n",
    "    \n",
    "    #평균 이상 학생 리스트 반환 메서드\n",
    "    def get_above_average(self):\n",
    "        above_average=[]\n",
    "        for key,value in self.stud_dict.items():\n",
    "            if value >= self.calculate_average():\n",
    "                above_average.append(key)\n",
    "        return above_average\n",
    "    \n",
    "    #평균 이하 학생 데이터 파일로 저장하는 메서드\n",
    "    def get_below_average(self):\n",
    "        below_average=[]\n",
    "        with open('below_average_korean.txt','w',encoding='utf-8') as f:\n",
    "            for key,value in self.stud_dict.items():\n",
    "                if value < self.calculate_average():\n",
    "                    below_average.append(key)\n",
    "                    f.write(f'{key},{value} \\n') # 평균 이하 학생의 데이터\n",
    "        #return below_average # 평균 이하 학생 리스트(이름만 반환)\n",
    "    \n",
    "    # 평균 점수와 평균 이상 학생 리스트 출력 메서드\n",
    "    def print_summary(self):\n",
    "        print(f'평균 점수:{self.calculate_average()}')\n",
    "        print(f'평균 이상 학생 리스트: {self.get_above_average()}')\n",
    "\n",
    "a = StudentScores()\n",
    "a.print_summary() # 평균 점수와 평균 이상 학생 리스트 출력 메서드\n",
    "a.get_below_average() #평균 이하 학생 데이터 파일 저장\n",
    "\n",
    "    \n"
   ]
  },
  {
   "cell_type": "code",
   "execution_count": null,
   "id": "5b848d07",
   "metadata": {},
   "outputs": [],
   "source": []
  }
 ],
 "metadata": {
  "kernelspec": {
   "display_name": ".venv",
   "language": "python",
   "name": "python3"
  },
  "language_info": {
   "codemirror_mode": {
    "name": "ipython",
    "version": 3
   },
   "file_extension": ".py",
   "mimetype": "text/x-python",
   "name": "python",
   "nbconvert_exporter": "python",
   "pygments_lexer": "ipython3",
   "version": "3.13.4"
  }
 },
 "nbformat": 4,
 "nbformat_minor": 5
}
