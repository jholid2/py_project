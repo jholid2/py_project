{
 "cells": [
  {
   "cell_type": "markdown",
   "id": "5d9ac6b2",
   "metadata": {},
   "source": [
    "# PBL2"
   ]
  },
  {
   "cell_type": "code",
   "execution_count": null,
   "id": "0209ed72",
   "metadata": {},
   "outputs": [
    {
     "name": "stdout",
     "output_type": "stream",
     "text": [
      "해당 위치에 log 파일이 존재 하지 않습니다.\n"
     ]
    },
    {
     "data": {
      "text/plain": [
       "0"
      ]
     },
     "execution_count": 89,
     "metadata": {},
     "output_type": "execute_result"
    }
   ],
   "source": [
    "# 테스트용 파일위치\n",
    "# ./test/20250613_091920_sample_log_file.log\n",
    "#  c:\\\\project\\\\py_project\\\\test\\\\20250613_091920_sample_log_file.log\n",
    "\n",
    "\n",
    "import re,os,csv,collections\n",
    "\n",
    "\n",
    "class log_file_analysis:\n",
    "    # 로그파일 경로 사용자 입력\n",
    "    def __init__(self):\n",
    "        self.file_t_f = False \n",
    "        self.log_list=[]\n",
    "        file_path=input(\"로그 파일 경로를 입력하세요: \")\n",
    "\n",
    "        try:\n",
    "            with open(file_path,'r',encoding='utf-8') as f:\n",
    "                self.log_lines = f.read().splitlines()\n",
    "            self.file_t_f=True\n",
    "        except FileNotFoundError:\n",
    "            print('해당 위치에 log 파일이 존재 하지 않습니다.')\n",
    "\n",
    "        except:\n",
    "            print('에러가 발생했습니다.')\n",
    "    #ip주소 추출 및 빈도 계산\n",
    "    def ip_address(self):\n",
    "        if not self.file_t_f:\n",
    "            return 0\n",
    "        \n",
    "        log_ip_list=[]\n",
    "        for line in self.log_lines:\n",
    "            ip_match = re.search(r'\\b(?:\\d{1,3}\\.){3}\\d{1,3}\\b',line)\n",
    "            if ip_match:\n",
    "                log_ip_list.append(ip_match.group())\n",
    "        return collections.Counter(log_ip_list)\n",
    "\n",
    "    #상위 3개 ip주소 출력\n",
    "    def print_top3(self):\n",
    "        if not self.file_t_f:\n",
    "            return 0\n",
    "        \n",
    "        print('상위 3개 ip주소 출력')\n",
    "        for ip,count in self.ip_address().most_common(3):\n",
    "            print(f'{ip} : {count}회')\n",
    "\n",
    "    #csv 저장 \n",
    "    def csv_save(self):\n",
    "        if not self.file_t_f:\n",
    "            return 0\n",
    "        with open('ip_analysis.csv','w',newline='', encoding='utf-8') as csvfile:\n",
    "            writer = csv.writer(csvfile)\n",
    "            writer.writerow(['IP', 'count'])\n",
    "            for ip,count in self.ip_address().most_common(3):\n",
    "                writer.writerow([ip, count])\n",
    "\n",
    "            if os.path.exists('ip_analysis.csv'):\n",
    "                print('csv 파일을 성공적으로 생성했습니다.')\n",
    "            else:\n",
    "                print('csv 파일 생성을 실패했습니다.')\n",
    "\n",
    "a = log_file_analysis() # 객체선언\n",
    "a.ip_address()#ip주소 추출 및 빈도 계산\n",
    "a.print_top3()#상위 3개 ip주소 출력\n",
    "a.csv_save()#csv 저장"
   ]
  },
  {
   "cell_type": "code",
   "execution_count": null,
   "id": "00957e27",
   "metadata": {},
   "outputs": [],
   "source": []
  }
 ],
 "metadata": {
  "kernelspec": {
   "display_name": ".venv",
   "language": "python",
   "name": "python3"
  },
  "language_info": {
   "codemirror_mode": {
    "name": "ipython",
    "version": 3
   },
   "file_extension": ".py",
   "mimetype": "text/x-python",
   "name": "python",
   "nbconvert_exporter": "python",
   "pygments_lexer": "ipython3",
   "version": "3.13.4"
  }
 },
 "nbformat": 4,
 "nbformat_minor": 5
}
