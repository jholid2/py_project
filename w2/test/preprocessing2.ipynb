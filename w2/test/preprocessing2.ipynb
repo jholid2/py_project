{
 "cells": [
  {
   "cell_type": "markdown",
   "id": "f9d83c76",
   "metadata": {},
   "source": [
    "# 데이터 전처리 1"
   ]
  },
  {
   "cell_type": "code",
   "execution_count": 41,
   "id": "13c623ff",
   "metadata": {},
   "outputs": [],
   "source": [
    "import pandas as pd\n",
    "from sklearn.model_selection import train_test_split\n",
    "from sklearn.preprocessing import LabelEncoder\n",
    "from sklearn.ensemble import RandomForestRegressor\n",
    "from sklearn.metrics import mean_squared_error, r2_score"
   ]
  },
  {
   "cell_type": "code",
   "execution_count": null,
   "id": "22575956",
   "metadata": {},
   "outputs": [
    {
     "name": "stdout",
     "output_type": "stream",
     "text": [
      "mse: 453.6714025769372\n",
      "r2: 0.9999714615022904\n"
     ]
    }
   ],
   "source": [
    "df = pd.read_csv('diamonds.csv')\n",
    "#print(df.info()) # 결측치 확인 후 주석처리\n",
    "#print(df.duplicated().sum()) #중복확인 후 주석처리\n",
    "\n",
    "label_encoder = LabelEncoder() #객체선언\n",
    "#데이터 레이블 인코딩 빼면 그냥 원래 데이터에 저장됨. \n",
    "for i in ['cut', 'color', 'clarity']:\n",
    "    df[i] = label_encoder.fit_transform(df[i])\n",
    "\n",
    "# 데이터셋: 특성(Features), 타켓(target))\n",
    "X = df.drop(columns=['price'],axis=1) # 학습용 입력 데이터(Features)\n",
    "y = df['price'] # 예측 대상인 타겟 데이터 (가격)\n",
    "\n",
    "# 데이터를 8:2로 분할 (학습용 : 테스트용)\n",
    "X_train, X_test, y_train, y_test = train_test_split(X, y, test_size=0.2, random_state=42)\n",
    "\n",
    "# 랜덤포레스트 회귀 모델 생성(정확도 높지만 느림.\n",
    "model = RandomForestRegressor(n_estimators=100, random_state=42) \n",
    "# 학습\n",
    "model.fit(X_train, y_train) # 학습 데이터를 이용하여 모델 학습\n",
    "\n",
    "#예측\n",
    "y_pred = model.predict(X_test) # 테스트 데이터를 이용한 가격 예측\n",
    "\n",
    "# 모델 평가\n",
    "mse = mean_squared_error(y_test,y_pred) # 평균 제곱 오차 (작을수록 예측이 정확함)\n",
    "r2 = r2_score(y_test,y_pred) # 결정 계수 R² (1에 가까울수록 성능 우수)\n",
    "\n",
    "print(f'mse: {mse}')\n",
    "print(f'r2: {r2}')\n"
   ]
  },
  {
   "cell_type": "markdown",
   "id": "d37ce488",
   "metadata": {},
   "source": [
    "# 데이터 전처리 2"
   ]
  },
  {
   "cell_type": "code",
   "execution_count": 1,
   "id": "b75bc8ba",
   "metadata": {},
   "outputs": [
    {
     "name": "stdout",
     "output_type": "stream",
     "text": [
      "MSE: 0.3006603124999999\n",
      "r2: 0.5399271357910311\n"
     ]
    }
   ],
   "source": [
    "import pandas as pd\n",
    "from sklearn.ensemble import RandomForestRegressor\n",
    "from sklearn.preprocessing import StandardScaler\n",
    "from sklearn.metrics import mean_squared_error, r2_score\n",
    "from sklearn.model_selection import train_test_split\n",
    "\n",
    "df = pd.read_csv('winequality-red.csv')\n",
    "\n",
    "\n",
    "\n",
    "X = df.drop(columns=['quality'],axis=1) # 학습용 입력 데이터(Features)\n",
    "y = df['quality'] # 예측 대상인 타겟 데이터 \n",
    "\n",
    "# 8:2 데이터 분할\n",
    "X_train, X_test, y_train, y_test = train_test_split(X, y, test_size=0.2, random_state=42)\n",
    "\n",
    "# 전처리 -> 데이터 표준화\n",
    "scaler = StandardScaler()\n",
    "X_train_scaled = scaler.fit_transform(X_train)\n",
    "X_test_scaled = scaler.transform(X_test)\n",
    "\n",
    "# 모델 생성 및 훈련 (회귀)\n",
    "model = RandomForestRegressor(n_estimators=100, random_state=42) # \n",
    "model.fit(X_train_scaled, y_train)\n",
    "\n",
    "# 예측\n",
    "y_pred = model.predict(X_test_scaled)\n",
    "\n",
    "# 모델 평가 (회귀 지표)\n",
    "mse = mean_squared_error(y_test, y_pred)\n",
    "r2 = r2_score(y_test, y_pred)\n",
    "\n",
    "print(f'MSE: {mse}')\n",
    "print(f'r2: {r2}')\n"
   ]
  }
 ],
 "metadata": {
  "kernelspec": {
   "display_name": ".venv",
   "language": "python",
   "name": "python3"
  },
  "language_info": {
   "codemirror_mode": {
    "name": "ipython",
    "version": 3
   },
   "file_extension": ".py",
   "mimetype": "text/x-python",
   "name": "python",
   "nbconvert_exporter": "python",
   "pygments_lexer": "ipython3",
   "version": "3.13.4"
  }
 },
 "nbformat": 4,
 "nbformat_minor": 5
}
