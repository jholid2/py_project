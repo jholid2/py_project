{
 "cells": [
  {
   "cell_type": "code",
   "execution_count": 2,
   "id": "e69ff3dd",
   "metadata": {},
   "outputs": [],
   "source": [
    "from selenium import webdriver"
   ]
  },
  {
   "cell_type": "code",
   "execution_count": 9,
   "id": "029fc8f1",
   "metadata": {},
   "outputs": [],
   "source": [
    "# 브라우저 실행\n",
    "driver = webdriver.Chrome()\n",
    "\n",
    "#url\n",
    "driver.get('https://www.google.com')\n",
    "\n",
    "# 브라우저 종료\n",
    "#driver.quit()"
   ]
  },
  {
   "cell_type": "code",
   "execution_count": 10,
   "id": "2f027141",
   "metadata": {},
   "outputs": [],
   "source": [
    "from selenium import webdriver\n",
    "from selenium.webdriver.common.by import By\n",
    "from selenium.webdriver.common.keys import Keys\n",
    "import time"
   ]
  },
  {
   "cell_type": "code",
   "execution_count": null,
   "id": "8269fd51",
   "metadata": {},
   "outputs": [],
   "source": [
    "driver= webdriver.Chrome() #크롬\n",
    "\n",
    "driver.get('https://www.google.com') #구글\n",
    "\n",
    "#검색창 찾기. \n",
    "search_box = driver.find_element(By.NAME,'q') \n",
    "#검색어\n",
    "search_box.send_keys('python')\n",
    "#엔터\n",
    "search_box.send_keys(Keys.RETURN)\n",
    "\n",
    "# 결과가 나올때까지 멈춤\n",
    "time.sleep(30) \n",
    "\n",
    "results = driver.find_elements(By.XPATH,'//h3')\n",
    "print(results)"
   ]
  },
  {
   "cell_type": "code",
   "execution_count": null,
   "id": "ab59869c",
   "metadata": {},
   "outputs": [],
   "source": [
    "driver= webdriver.Chrome() #크롬\n",
    "url = 'https://news.naver.com/main/list.naver?mode=LSD&mid=sec&sid1=105'\n",
    "driver.get(url)\n",
    "\n",
    "\n",
    "# 결과가 나올때까지 멈춤\n",
    "time.sleep(3) #5초\n",
    "\n",
    "results = driver.find_elements(By.CSS_SELECTOR,'ul.type06_headline li dt:not(.photo) a')\n",
    "print(results)\n",
    "for item in results:\n",
    "    print(item.text)\n",
    "    print(item.get_attribute('href'))\n",
    "\n",
    "driver.quit()    "
   ]
  },
  {
   "cell_type": "code",
   "execution_count": 10,
   "id": "b276b310",
   "metadata": {},
   "outputs": [],
   "source": [
    "import csv"
   ]
  },
  {
   "cell_type": "code",
   "execution_count": 11,
   "id": "27fef876",
   "metadata": {},
   "outputs": [],
   "source": [
    "\n",
    "# 데이터 준비\n",
    "data = [\n",
    "['Name', 'Age', 'City'],\n",
    "['Alice', 30, 'New York'],\n",
    "['Bob', 25, 'Los Angeles'],\n",
    "['Charlie', 35, 'Chicago']\n",
    "]"
   ]
  },
  {
   "cell_type": "code",
   "execution_count": 13,
   "id": "ce2e9791",
   "metadata": {},
   "outputs": [
    {
     "name": "stdout",
     "output_type": "stream",
     "text": [
      "ok\n"
     ]
    }
   ],
   "source": [
    "with open('data1.csv','w',encoding='utf-8',newline='') as file:\n",
    "    writer = csv.writer(file)\n",
    "    writer.writerows(data)\n",
    "\n",
    "print('ok')\n"
   ]
  },
  {
   "cell_type": "code",
   "execution_count": 8,
   "id": "da1fe0ec",
   "metadata": {},
   "outputs": [],
   "source": [
    "import pandas as pd\n"
   ]
  },
  {
   "cell_type": "code",
   "execution_count": 14,
   "id": "978ddc22",
   "metadata": {},
   "outputs": [
    {
     "name": "stdout",
     "output_type": "stream",
     "text": [
      "      Name  Age         City\n",
      "0    Alice   30     New York\n",
      "1      Bob   25  Los Angeles\n",
      "2  Charlie   35      Chicago\n"
     ]
    }
   ],
   "source": [
    "data = pd.read_csv('data1.csv')\n",
    "print(data)"
   ]
  },
  {
   "cell_type": "code",
   "execution_count": 15,
   "id": "6a0b3b81",
   "metadata": {},
   "outputs": [
    {
     "name": "stdout",
     "output_type": "stream",
     "text": [
      "Collecting openpyxl\n",
      "  Downloading openpyxl-3.1.5-py2.py3-none-any.whl.metadata (2.5 kB)\n",
      "Collecting et-xmlfile (from openpyxl)\n",
      "  Downloading et_xmlfile-2.0.0-py3-none-any.whl.metadata (2.7 kB)\n",
      "Downloading openpyxl-3.1.5-py2.py3-none-any.whl (250 kB)\n",
      "Downloading et_xmlfile-2.0.0-py3-none-any.whl (18 kB)\n",
      "Installing collected packages: et-xmlfile, openpyxl\n",
      "\n",
      "   -------------------- ------------------- 1/2 [openpyxl]\n",
      "   -------------------- ------------------- 1/2 [openpyxl]\n",
      "   -------------------- ------------------- 1/2 [openpyxl]\n",
      "   -------------------- ------------------- 1/2 [openpyxl]\n",
      "   -------------------- ------------------- 1/2 [openpyxl]\n",
      "   -------------------- ------------------- 1/2 [openpyxl]\n",
      "   -------------------- ------------------- 1/2 [openpyxl]\n",
      "   -------------------- ------------------- 1/2 [openpyxl]\n",
      "   -------------------- ------------------- 1/2 [openpyxl]\n",
      "   -------------------- ------------------- 1/2 [openpyxl]\n",
      "   -------------------- ------------------- 1/2 [openpyxl]\n",
      "   -------------------- ------------------- 1/2 [openpyxl]\n",
      "   -------------------- ------------------- 1/2 [openpyxl]\n",
      "   -------------------- ------------------- 1/2 [openpyxl]\n",
      "   -------------------- ------------------- 1/2 [openpyxl]\n",
      "   -------------------- ------------------- 1/2 [openpyxl]\n",
      "   -------------------- ------------------- 1/2 [openpyxl]\n",
      "   -------------------- ------------------- 1/2 [openpyxl]\n",
      "   -------------------- ------------------- 1/2 [openpyxl]\n",
      "   -------------------- ------------------- 1/2 [openpyxl]\n",
      "   -------------------- ------------------- 1/2 [openpyxl]\n",
      "   -------------------- ------------------- 1/2 [openpyxl]\n",
      "   -------------------- ------------------- 1/2 [openpyxl]\n",
      "   -------------------- ------------------- 1/2 [openpyxl]\n",
      "   -------------------- ------------------- 1/2 [openpyxl]\n",
      "   -------------------- ------------------- 1/2 [openpyxl]\n",
      "   -------------------- ------------------- 1/2 [openpyxl]\n",
      "   -------------------- ------------------- 1/2 [openpyxl]\n",
      "   -------------------- ------------------- 1/2 [openpyxl]\n",
      "   -------------------- ------------------- 1/2 [openpyxl]\n",
      "   -------------------- ------------------- 1/2 [openpyxl]\n",
      "   ---------------------------------------- 2/2 [openpyxl]\n",
      "\n",
      "Successfully installed et-xmlfile-2.0.0 openpyxl-3.1.5\n",
      "Note: you may need to restart the kernel to use updated packages.\n"
     ]
    }
   ],
   "source": [
    "pip install openpyxl"
   ]
  },
  {
   "cell_type": "code",
   "execution_count": 18,
   "id": "35775363",
   "metadata": {},
   "outputs": [
    {
     "name": "stdout",
     "output_type": "stream",
     "text": [
      "      Name  Age         City\n",
      "0    Alice   30     New York\n",
      "1      Bob   25  Los Angeles\n",
      "2  Charlie   35      Chicago\n"
     ]
    }
   ],
   "source": [
    "data = {\n",
    " 'Name': ['Alice', 'Bob', 'Charlie'],\n",
    " 'Age': [30, 25, 35],\n",
    " 'City': ['New York', 'Los Angeles', 'Chicago']\n",
    " }\n",
    "df = pd.DataFrame(data)\n",
    "print(df)"
   ]
  },
  {
   "cell_type": "code",
   "execution_count": 19,
   "id": "ebacc6d0",
   "metadata": {},
   "outputs": [
    {
     "name": "stdout",
     "output_type": "stream",
     "text": [
      "ok\n"
     ]
    }
   ],
   "source": [
    "df.to_excel('data1.xlsx',index=False)\n",
    "print('ok')"
   ]
  },
  {
   "cell_type": "code",
   "execution_count": 23,
   "id": "9110d95b",
   "metadata": {},
   "outputs": [
    {
     "data": {
      "text/html": [
       "<div>\n",
       "<style scoped>\n",
       "    .dataframe tbody tr th:only-of-type {\n",
       "        vertical-align: middle;\n",
       "    }\n",
       "\n",
       "    .dataframe tbody tr th {\n",
       "        vertical-align: top;\n",
       "    }\n",
       "\n",
       "    .dataframe thead th {\n",
       "        text-align: right;\n",
       "    }\n",
       "</style>\n",
       "<table border=\"1\" class=\"dataframe\">\n",
       "  <thead>\n",
       "    <tr style=\"text-align: right;\">\n",
       "      <th></th>\n",
       "      <th>Name</th>\n",
       "      <th>Age</th>\n",
       "      <th>City</th>\n",
       "    </tr>\n",
       "  </thead>\n",
       "  <tbody>\n",
       "    <tr>\n",
       "      <th>0</th>\n",
       "      <td>Alice</td>\n",
       "      <td>30</td>\n",
       "      <td>New York</td>\n",
       "    </tr>\n",
       "    <tr>\n",
       "      <th>1</th>\n",
       "      <td>Bob</td>\n",
       "      <td>25</td>\n",
       "      <td>Los Angeles</td>\n",
       "    </tr>\n",
       "    <tr>\n",
       "      <th>2</th>\n",
       "      <td>Charlie</td>\n",
       "      <td>35</td>\n",
       "      <td>Chicago</td>\n",
       "    </tr>\n",
       "  </tbody>\n",
       "</table>\n",
       "</div>"
      ],
      "text/plain": [
       "      Name  Age         City\n",
       "0    Alice   30     New York\n",
       "1      Bob   25  Los Angeles\n",
       "2  Charlie   35      Chicago"
      ]
     },
     "execution_count": 23,
     "metadata": {},
     "output_type": "execute_result"
    }
   ],
   "source": [
    "data2 = pd.read_excel('data1.xlsx')\n",
    "data2"
   ]
  },
  {
   "cell_type": "code",
   "execution_count": 24,
   "id": "28628c4a",
   "metadata": {},
   "outputs": [],
   "source": [
    "import json"
   ]
  },
  {
   "cell_type": "code",
   "execution_count": null,
   "id": "aecd15be",
   "metadata": {},
   "outputs": [],
   "source": [
    "# 데이터 준비\n",
    "data = {\n",
    "'people': [\n",
    "{'name': 'Alice', 'age': 30, 'city': 'New York'},\n",
    "{'name': 'Bob', 'age': 25, 'city': 'Los Angeles'},\n",
    "{'name': 'Charlie', 'age': 35, 'city': 'Chicago'}\n",
    "    ]\n",
    "}"
   ]
  },
  {
   "cell_type": "code",
   "execution_count": null,
   "id": "32009a2d",
   "metadata": {},
   "outputs": [
    {
     "name": "stdout",
     "output_type": "stream",
     "text": [
      "ok\n"
     ]
    }
   ],
   "source": [
    "with open('data1.json','w',encoding='utf-8') as file:\n",
    "    json.dump(data,file,indent=4) # json은 큰따옴표\n",
    "print('ok')"
   ]
  },
  {
   "cell_type": "code",
   "execution_count": 37,
   "id": "9281015c",
   "metadata": {},
   "outputs": [
    {
     "name": "stdout",
     "output_type": "stream",
     "text": [
      "{'people': [{'name': 'Alice', 'age': 30, 'city': 'New York'}, {'name': 'Bob', 'age': 25, 'city': 'Los Angeles'}, {'name': 'Charlie', 'age': 35, 'city': 'Chicago'}]}\n",
      "<class 'dict'>\n"
     ]
    }
   ],
   "source": [
    "with open('data1.json','r',encoding='utf-8') as file:\n",
    "    data_result = json.load(file)\n",
    "    print(data_result)\n",
    "    print(type(data_result))"
   ]
  },
  {
   "cell_type": "markdown",
   "id": "636ace96",
   "metadata": {},
   "source": [
    "# SQLite : 관계형 데이터 베이스\n"
   ]
  },
  {
   "cell_type": "code",
   "execution_count": 1,
   "id": "3fc96044",
   "metadata": {},
   "outputs": [],
   "source": [
    "import sqlite3"
   ]
  },
  {
   "cell_type": "code",
   "execution_count": 2,
   "id": "74415e42",
   "metadata": {},
   "outputs": [
    {
     "name": "stdout",
     "output_type": "stream",
     "text": [
      "데이터베이스 연결\n"
     ]
    }
   ],
   "source": [
    "conn = sqlite3.connect('first.db')\n",
    "print('데이터베이스 연결')\n",
    "conn.close()"
   ]
  },
  {
   "cell_type": "code",
   "execution_count": 3,
   "id": "ce0eab2a",
   "metadata": {},
   "outputs": [
    {
     "name": "stdout",
     "output_type": "stream",
     "text": [
      "ok\n"
     ]
    }
   ],
   "source": [
    "# 관계형 데이터 베이스 : 테이블 구조로 데이터를 저장\n",
    "# 저장할수 있는 공간 생성 => table 생성\n",
    "# sql: create table 테이블이름(컬럼이름 데이터 타입 제약조건, 컬럼 타입 제약, 컬럼 타입 제약, ...)\n",
    "sql_create = '''\n",
    "create table user(\n",
    "    id integer primary key autoincrement,\n",
    "    name text not null,\n",
    "    age integer,\n",
    "    city text\n",
    ")\n",
    "'''\n",
    "# 테이블 생성\n",
    "# 1. 데이터베이스 연결\n",
    "conn = sqlite3.connect('first.db')\n",
    "# 2. sql 실행할 수 있는 객체 필요\n",
    "cursor = conn.cursor()\n",
    "# 3. sql 실행\n",
    "cursor.execute(sql_create)\n",
    "\n",
    "print('ok')\n",
    "# 4. 연결 종료 \n",
    "conn.close()"
   ]
  },
  {
   "cell_type": "code",
   "execution_count": null,
   "id": "824f1994",
   "metadata": {},
   "outputs": [],
   "source": [
    "# 데이터 입력: 행단위 입력 => (이름, 나이, 거주지 )\n",
    "# sql = insert into user (name, age, city) values (?,?,?)\n",
    "\n",
    "# 1. 데이터베이스 연결\n",
    "conn = sqlite3.connect('first.db')\n",
    "\n",
    "# 2. 데이터 처리\n",
    "cursor = conn.cursor()\n",
    "sql_insert= 'insert into user (name, age, city) values (?, ?, ?)'\n",
    "#cursor.execute(sql_insert, ('son', 20, 'London'))\n",
    "data = [\n",
    "    ('son', 20, 'London'),\n",
    "    ('lee', 22, 'seoul'),\n",
    "    ('kim', 32, 'BUSAN')\n",
    "]\n",
    "cursor.executemany(sql_insert, data)\n",
    "# 입력 수정 삭제 -> DML\n",
    "# 완료 여부를 코드로 지정 할수있다. => 물리적인 저장.\n",
    "conn.commit() # 작업 끝났으니 파일을 저장하라.'\n",
    "conn.close()"
   ]
  },
  {
   "cell_type": "code",
   "execution_count": null,
   "id": "184a224a",
   "metadata": {},
   "outputs": [],
   "source": []
  },
  {
   "cell_type": "code",
   "execution_count": 16,
   "id": "47319a9f",
   "metadata": {},
   "outputs": [
    {
     "name": "stdout",
     "output_type": "stream",
     "text": [
      "[(3, 'kim', 32), (5, 'lee', 22), (6, 'kim', 32)]\n",
      "(3, 'kim', 32)\n",
      "(5, 'lee', 22)\n",
      "(6, 'kim', 32)\n"
     ]
    }
   ],
   "source": [
    "# 질의(검색) : 데이터 검색 -> 행 단위 검색\n",
    "# sql = select 컬럼 이름들 ,.. from 테이블 이름 [where 컬럼 이름 기준으로 비교 연산]\n",
    "# 1. 연결 \n",
    "conn = sqlite3.connect('first.db')\n",
    "# 2. 데이터 처리\n",
    "cursor = conn.cursor()\n",
    "sql_select = 'select id,name, age from user where id >2'\n",
    "\n",
    "cursor.execute(sql_select)\n",
    "# select 결과 -> fetchall(), fetchone()\n",
    "rows= cursor.fetchall()\n",
    "print(rows)\n",
    "\n",
    "for row in rows:\n",
    "    print(row) # tuple 형식의 데이터\n",
    "\n",
    "conn.close()\n"
   ]
  },
  {
   "cell_type": "code",
   "execution_count": 13,
   "id": "2a7207e3",
   "metadata": {},
   "outputs": [
    {
     "name": "stdout",
     "output_type": "stream",
     "text": [
      "update ok\n"
     ]
    }
   ],
   "source": [
    "# 데이터 수정 : 행 단위 데이터 수정, \n",
    "# 행을 찾고 -> 행의 컬럼의 값을  변경(삭제, 입력, 치환)\n",
    "# sql = update 테이블 이름 set 컬럼이름 = 값, 컬럼 이름 = 값, ... [where 조건식]\n",
    "\n",
    "# 1. 연결\n",
    "conn=sqlite3.connect('first.db')\n",
    "# 2. 데이터 처리\n",
    "cursor = conn.cursor()\n",
    "sql_update =\"update user set age = ? where id = ?\"\n",
    "\n",
    "cursor.execute(sql_update,(39, 4))\n",
    "\n",
    "conn.commit()\n",
    "print('update ok')\n",
    "\n",
    "conn.close()"
   ]
  },
  {
   "cell_type": "code",
   "execution_count": 15,
   "id": "c5310739",
   "metadata": {},
   "outputs": [
    {
     "name": "stdout",
     "output_type": "stream",
     "text": [
      "delet 4 ok\n"
     ]
    }
   ],
   "source": [
    "# 데이터의 삭제 : 행단위 삭제\n",
    "# sql = delete from 테이블이름 where 조건식\n",
    "\n",
    "conn = sqlite3.connect('first.db')\n",
    "cursor = conn.cursor()\n",
    "sql_delete = 'delete from user where id = ?'\n",
    "cursor.execute(sql_delete,(4,))\n",
    "\n",
    "conn.commit()\n",
    "print('delet 4 ok')\n",
    "conn.close()"
   ]
  },
  {
   "cell_type": "code",
   "execution_count": null,
   "id": "98e23d9a",
   "metadata": {},
   "outputs": [],
   "source": [
    "# 6월 17일\n",
    "\n",
    "\n",
    "\n",
    "\n"
   ]
  }
 ],
 "metadata": {
  "kernelspec": {
   "display_name": ".venv",
   "language": "python",
   "name": "python3"
  },
  "language_info": {
   "codemirror_mode": {
    "name": "ipython",
    "version": 3
   },
   "file_extension": ".py",
   "mimetype": "text/x-python",
   "name": "python",
   "nbconvert_exporter": "python",
   "pygments_lexer": "ipython3",
   "version": "3.13.4"
  }
 },
 "nbformat": 4,
 "nbformat_minor": 5
}
