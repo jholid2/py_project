{
 "cells": [
  {
   "cell_type": "markdown",
   "id": "8b4dceff",
   "metadata": {},
   "source": [
    "# 6월 18일"
   ]
  },
  {
   "cell_type": "code",
   "execution_count": 1,
   "id": "169aff0e",
   "metadata": {},
   "outputs": [],
   "source": [
    "import pandas as pd"
   ]
  },
  {
   "cell_type": "code",
   "execution_count": 61,
   "id": "7a2011f1",
   "metadata": {},
   "outputs": [],
   "source": [
    "data = pd.DataFrame({'Original' : [1,4,36,100,1000,10000]})\n",
    "#data"
   ]
  },
  {
   "cell_type": "code",
   "execution_count": 62,
   "id": "c1395fa0",
   "metadata": {},
   "outputs": [],
   "source": [
    "import numpy as np"
   ]
  },
  {
   "cell_type": "code",
   "execution_count": 63,
   "id": "9b727b4a",
   "metadata": {},
   "outputs": [],
   "source": [
    "# 로그 변환\n",
    "data['log Trans']= np.log1p(data['Original'])\n",
    "#data"
   ]
  },
  {
   "cell_type": "code",
   "execution_count": 64,
   "id": "45cb23a1",
   "metadata": {},
   "outputs": [],
   "source": [
    "# 스퀘어루트 변환 \n",
    "data['sqr Trans'] = np.sqrt(data['Original'])\n",
    "#data"
   ]
  },
  {
   "cell_type": "code",
   "execution_count": 15,
   "id": "7f1a08b4",
   "metadata": {},
   "outputs": [],
   "source": [
    "#설치 \n",
    "\n",
    "#pip install scikit-learn"
   ]
  },
  {
   "cell_type": "code",
   "execution_count": null,
   "id": "ebaec9ec",
   "metadata": {},
   "outputs": [],
   "source": [
    "# from sklearn에 있는 preprocessing을 사용 import 표준화, 정규화, \n",
    "from sklearn.preprocessing import StandardScaler, MinMaxScaler, LabelEncoder,OneHotEncoder"
   ]
  },
  {
   "cell_type": "code",
   "execution_count": 66,
   "id": "11b4c6e4",
   "metadata": {},
   "outputs": [],
   "source": [
    "data1 = pd.DataFrame({'Orignal':[50,80,90,100,160]})\n",
    "data2 = pd.DataFrame({'Fruits': ['사과', '배', '포도', '사과', '포도']})"
   ]
  },
  {
   "cell_type": "code",
   "execution_count": 74,
   "id": "d22324f1",
   "metadata": {},
   "outputs": [
    {
     "data": {
      "text/html": [
       "<div>\n",
       "<style scoped>\n",
       "    .dataframe tbody tr th:only-of-type {\n",
       "        vertical-align: middle;\n",
       "    }\n",
       "\n",
       "    .dataframe tbody tr th {\n",
       "        vertical-align: top;\n",
       "    }\n",
       "\n",
       "    .dataframe thead th {\n",
       "        text-align: right;\n",
       "    }\n",
       "</style>\n",
       "<table border=\"1\" class=\"dataframe\">\n",
       "  <thead>\n",
       "    <tr style=\"text-align: right;\">\n",
       "      <th></th>\n",
       "      <th>Orignal</th>\n",
       "      <th>scaler_1</th>\n",
       "      <th>scaler_2</th>\n",
       "    </tr>\n",
       "  </thead>\n",
       "  <tbody>\n",
       "    <tr>\n",
       "      <th>0</th>\n",
       "      <td>50</td>\n",
       "      <td>-1.273852</td>\n",
       "      <td>0.000000</td>\n",
       "    </tr>\n",
       "    <tr>\n",
       "      <th>1</th>\n",
       "      <td>80</td>\n",
       "      <td>-0.443079</td>\n",
       "      <td>0.272727</td>\n",
       "    </tr>\n",
       "    <tr>\n",
       "      <th>2</th>\n",
       "      <td>90</td>\n",
       "      <td>-0.166155</td>\n",
       "      <td>0.363636</td>\n",
       "    </tr>\n",
       "    <tr>\n",
       "      <th>3</th>\n",
       "      <td>100</td>\n",
       "      <td>0.110770</td>\n",
       "      <td>0.454545</td>\n",
       "    </tr>\n",
       "    <tr>\n",
       "      <th>4</th>\n",
       "      <td>160</td>\n",
       "      <td>1.772316</td>\n",
       "      <td>1.000000</td>\n",
       "    </tr>\n",
       "  </tbody>\n",
       "</table>\n",
       "</div>"
      ],
      "text/plain": [
       "   Orignal  scaler_1  scaler_2\n",
       "0       50 -1.273852  0.000000\n",
       "1       80 -0.443079  0.272727\n",
       "2       90 -0.166155  0.363636\n",
       "3      100  0.110770  0.454545\n",
       "4      160  1.772316  1.000000"
      ]
     },
     "execution_count": 74,
     "metadata": {},
     "output_type": "execute_result"
    }
   ],
   "source": [
    "# 표준화 standard 함수 \n",
    "scaler_1 = StandardScaler()\n",
    "data1['scaler_1']  = scaler_1.fit_transform(data1[['Orignal']]) #2차원 형식으로 전달\n",
    "\n",
    "# 정규화 minmax\n",
    "scaler_2 = MinMaxScaler()\n",
    "data1['scaler_2']  = scaler_2.fit_transform(data1[['Orignal']]) #2차원 형식으로 전달\n",
    "data1"
   ]
  },
  {
   "cell_type": "code",
   "execution_count": 78,
   "id": "773aa5cb",
   "metadata": {},
   "outputs": [
    {
     "data": {
      "text/html": [
       "<div>\n",
       "<style scoped>\n",
       "    .dataframe tbody tr th:only-of-type {\n",
       "        vertical-align: middle;\n",
       "    }\n",
       "\n",
       "    .dataframe tbody tr th {\n",
       "        vertical-align: top;\n",
       "    }\n",
       "\n",
       "    .dataframe thead th {\n",
       "        text-align: right;\n",
       "    }\n",
       "</style>\n",
       "<table border=\"1\" class=\"dataframe\">\n",
       "  <thead>\n",
       "    <tr style=\"text-align: right;\">\n",
       "      <th></th>\n",
       "      <th>Fruits</th>\n",
       "      <th>Label Encoding</th>\n",
       "      <th>Label Encoding_0</th>\n",
       "      <th>Label Encoding_1</th>\n",
       "      <th>Label Encoding_2</th>\n",
       "    </tr>\n",
       "  </thead>\n",
       "  <tbody>\n",
       "    <tr>\n",
       "      <th>0</th>\n",
       "      <td>사과</td>\n",
       "      <td>1</td>\n",
       "      <td>0.0</td>\n",
       "      <td>1.0</td>\n",
       "      <td>0.0</td>\n",
       "    </tr>\n",
       "    <tr>\n",
       "      <th>1</th>\n",
       "      <td>배</td>\n",
       "      <td>0</td>\n",
       "      <td>1.0</td>\n",
       "      <td>0.0</td>\n",
       "      <td>0.0</td>\n",
       "    </tr>\n",
       "    <tr>\n",
       "      <th>2</th>\n",
       "      <td>포도</td>\n",
       "      <td>2</td>\n",
       "      <td>0.0</td>\n",
       "      <td>0.0</td>\n",
       "      <td>1.0</td>\n",
       "    </tr>\n",
       "    <tr>\n",
       "      <th>3</th>\n",
       "      <td>사과</td>\n",
       "      <td>1</td>\n",
       "      <td>0.0</td>\n",
       "      <td>1.0</td>\n",
       "      <td>0.0</td>\n",
       "    </tr>\n",
       "    <tr>\n",
       "      <th>4</th>\n",
       "      <td>포도</td>\n",
       "      <td>2</td>\n",
       "      <td>0.0</td>\n",
       "      <td>0.0</td>\n",
       "      <td>1.0</td>\n",
       "    </tr>\n",
       "  </tbody>\n",
       "</table>\n",
       "</div>"
      ],
      "text/plain": [
       "  Fruits  Label Encoding  Label Encoding_0  Label Encoding_1  Label Encoding_2\n",
       "0     사과               1               0.0               1.0               0.0\n",
       "1      배               0               1.0               0.0               0.0\n",
       "2     포도               2               0.0               0.0               1.0\n",
       "3     사과               1               0.0               1.0               0.0\n",
       "4     포도               2               0.0               0.0               1.0"
      ]
     },
     "execution_count": 78,
     "metadata": {},
     "output_type": "execute_result"
    }
   ],
   "source": [
    "# 레이블의 인코딩 \n",
    "encoder_1 = LabelEncoder()\n",
    "data2['Label Encoding'] = encoder_1.fit_transform(data2['Fruits'])\n",
    "data2"
   ]
  },
  {
   "cell_type": "code",
   "execution_count": 69,
   "id": "ad51447c",
   "metadata": {},
   "outputs": [],
   "source": [
    "#원핫인코딩\n",
    "encoder_2 = OneHotEncoder(sparse_output=False)\n",
    "onehot_encoded = encoder_2.fit_transform(data2[['Label Encoding']])\n"
   ]
  },
  {
   "cell_type": "code",
   "execution_count": 70,
   "id": "b6915221",
   "metadata": {},
   "outputs": [
    {
     "name": "stdout",
     "output_type": "stream",
     "text": [
      "['Label Encoding_0' 'Label Encoding_1' 'Label Encoding_2']\n"
     ]
    }
   ],
   "source": [
    "onehot_col = encoder_2.get_feature_names_out()\n",
    "print(onehot_col)"
   ]
  },
  {
   "cell_type": "code",
   "execution_count": 71,
   "id": "8b98c0d7",
   "metadata": {},
   "outputs": [],
   "source": [
    "onehot_df = pd.DataFrame(onehot_encoded, columns=onehot_col)\n"
   ]
  },
  {
   "cell_type": "code",
   "execution_count": 72,
   "id": "f44ef867",
   "metadata": {},
   "outputs": [
    {
     "data": {
      "text/html": [
       "<div>\n",
       "<style scoped>\n",
       "    .dataframe tbody tr th:only-of-type {\n",
       "        vertical-align: middle;\n",
       "    }\n",
       "\n",
       "    .dataframe tbody tr th {\n",
       "        vertical-align: top;\n",
       "    }\n",
       "\n",
       "    .dataframe thead th {\n",
       "        text-align: right;\n",
       "    }\n",
       "</style>\n",
       "<table border=\"1\" class=\"dataframe\">\n",
       "  <thead>\n",
       "    <tr style=\"text-align: right;\">\n",
       "      <th></th>\n",
       "      <th>Fruits</th>\n",
       "      <th>Label Encoding</th>\n",
       "      <th>Label Encoding_0</th>\n",
       "      <th>Label Encoding_1</th>\n",
       "      <th>Label Encoding_2</th>\n",
       "    </tr>\n",
       "  </thead>\n",
       "  <tbody>\n",
       "    <tr>\n",
       "      <th>0</th>\n",
       "      <td>사과</td>\n",
       "      <td>1</td>\n",
       "      <td>0.0</td>\n",
       "      <td>1.0</td>\n",
       "      <td>0.0</td>\n",
       "    </tr>\n",
       "    <tr>\n",
       "      <th>1</th>\n",
       "      <td>배</td>\n",
       "      <td>0</td>\n",
       "      <td>1.0</td>\n",
       "      <td>0.0</td>\n",
       "      <td>0.0</td>\n",
       "    </tr>\n",
       "    <tr>\n",
       "      <th>2</th>\n",
       "      <td>포도</td>\n",
       "      <td>2</td>\n",
       "      <td>0.0</td>\n",
       "      <td>0.0</td>\n",
       "      <td>1.0</td>\n",
       "    </tr>\n",
       "    <tr>\n",
       "      <th>3</th>\n",
       "      <td>사과</td>\n",
       "      <td>1</td>\n",
       "      <td>0.0</td>\n",
       "      <td>1.0</td>\n",
       "      <td>0.0</td>\n",
       "    </tr>\n",
       "    <tr>\n",
       "      <th>4</th>\n",
       "      <td>포도</td>\n",
       "      <td>2</td>\n",
       "      <td>0.0</td>\n",
       "      <td>0.0</td>\n",
       "      <td>1.0</td>\n",
       "    </tr>\n",
       "  </tbody>\n",
       "</table>\n",
       "</div>"
      ],
      "text/plain": [
       "  Fruits  Label Encoding  Label Encoding_0  Label Encoding_1  Label Encoding_2\n",
       "0     사과               1               0.0               1.0               0.0\n",
       "1      배               0               1.0               0.0               0.0\n",
       "2     포도               2               0.0               0.0               1.0\n",
       "3     사과               1               0.0               1.0               0.0\n",
       "4     포도               2               0.0               0.0               1.0"
      ]
     },
     "execution_count": 72,
     "metadata": {},
     "output_type": "execute_result"
    }
   ],
   "source": [
    "data2 = pd.concat([data2, onehot_df],axis=1)\n",
    "data2"
   ]
  },
  {
   "cell_type": "code",
   "execution_count": null,
   "id": "42bc8849",
   "metadata": {},
   "outputs": [],
   "source": []
  },
  {
   "cell_type": "code",
   "execution_count": null,
   "id": "ae956bf8",
   "metadata": {},
   "outputs": [],
   "source": []
  },
  {
   "cell_type": "code",
   "execution_count": null,
   "id": "a2ced988",
   "metadata": {},
   "outputs": [],
   "source": []
  },
  {
   "cell_type": "markdown",
   "id": "bf139532",
   "metadata": {},
   "source": [
    "# 데이터 마이닝 / 생성형 ai"
   ]
  },
  {
   "cell_type": "code",
   "execution_count": null,
   "id": "31cf87c8",
   "metadata": {},
   "outputs": [],
   "source": [
    "#내장 모듈  statistics\n",
    "#최빈값이 여러개면 모듈에 있는 multimode를 이용.\n",
    "# import statistics # 판다스 없이.\n",
    "\n"
   ]
  },
  {
   "cell_type": "markdown",
   "id": "bc854dac",
   "metadata": {},
   "source": [
    "# 데이터 분포\n",
    "- 데이터가 공간적으로 어떻게 퍼져 있는지를 나타낸다.\n",
    "- 정규분포, 왜도, 첨도 (데이터의 분포 특성을 이해하는데 중요한 개념) "
   ]
  },
  {
   "cell_type": "code",
   "execution_count": 84,
   "id": "91cc5fb9",
   "metadata": {},
   "outputs": [],
   "source": [
    "import numpy as np\n",
    "import pandas as pd\n",
    "import matplotlib.pyplot as plt\n",
    "import matplotlib as mpl\n",
    "from scipy.stats import skew, kurtosis\n"
   ]
  },
  {
   "cell_type": "code",
   "execution_count": 97,
   "id": "fa338785",
   "metadata": {},
   "outputs": [
    {
     "data": {
      "image/png": "[encoded data removed]",
      "text/plain": [
       "<Figure size 640x480 with 1 Axes>"
      ]
     },
     "metadata": {},
     "output_type": "display_data"
    },
    {
     "name": "stdout",
     "output_type": "stream",
     "text": [
      "왜도 (Skewness): -0.0028\n",
      "첨도 (Kurtosis): -0.0469\n"
     ]
    }
   ],
   "source": [
    "\n",
    "\n",
    "# 정규분포 데이터 생성 (평균=0, 표준편차=1, 1000개 샘플)\n",
    "data = np.random.normal(loc=0, scale=1, size=1000)\n",
    "\n",
    "# 데이터프레임으로 변환 (선택사항)\n",
    "df = pd.DataFrame(data, columns=['값'])\n",
    "\n",
    "# 한글 폰트 설정\n",
    "plt.rcParams['font.family'] = 'Malgun Gothic'\n",
    "\n",
    "# 정규분포 히스토그램 시각화\n",
    "plt.hist(df['값'], bins=30, edgecolor='black', alpha=0.7)\n",
    "plt.title('정규분포 히스토그램')\n",
    "plt.xlabel('값')\n",
    "plt.ylabel('빈도수')\n",
    "plt.grid(True)\n",
    "plt.show()\n",
    "\n",
    "# 왜도(Skewness) 계산\n",
    "skewness = skew(df['값'])\n",
    "print(f\"왜도 (Skewness): {skewness:.4f}\")\n",
    "\n",
    "# 첨도(Kurtosis) 계산\n",
    "kurt = kurtosis(df['값']) # Fisher 방식 (정규분포면 0이 나옴)\n",
    "print(f\"첨도 (Kurtosis): {kurt:.4f}\")"
   ]
  },
  {
   "cell_type": "code",
   "execution_count": null,
   "id": "d6ed51c2",
   "metadata": {},
   "outputs": [],
   "source": []
  },
  {
   "cell_type": "markdown",
   "id": "d30a4002",
   "metadata": {},
   "source": [
    "# 데이터 통합 및 시각화\n",
    "- 데이터 통합 및 조인( merge, concat)\n",
    "    - 여러 데이터셋을 하나로 합칠 때 사용.\n",
    "    - 두 방법 모두 데이터를 합치는 기능이다.\n",
    "    - 하지만 어떤 기준으로 데이터를 합치는지에 따라 사용방식이 달라짐.\n",
    "    \n",
    "    1. merge - 기준 열을 기반으로 데이터를 합치기(공통 열(key) 기준으로 합칠 수 있음.)\n",
    "    \n",
    "        - Inner Join(교집합) 공통된 값만 유지\n",
    "        - Outer Join(합칩합) 공통된 값 없어도 nan 값을 채워서 유지\n",
    "        \n",
    " \n",
    "- 데이터 분포 확인 (히스토그램, 박스플롯)\n",
    "\n",
    "- 데이터 탐색적 분석()"
   ]
  },
  {
   "cell_type": "code",
   "execution_count": 106,
   "id": "216e5f17",
   "metadata": {},
   "outputs": [],
   "source": [
    "# 데이터의 병합\n",
    "\n",
    "# 고객 정보 데이터프레임\n",
    "customers = pd.DataFrame({\n",
    "    'customer_id': [1, 2, 3],\n",
    "    'name': ['Alice', 'Bob', 'Charlie']\n",
    "})\n",
    "# 주문 정보 데이터프레임\n",
    "orders = pd.DataFrame({\n",
    "    'order_id': [101, 102, 103],\n",
    "    'customer_id': [1, 2, 4],\n",
    "    'product': ['Laptop', 'Tablet', 'Smartphone']\n",
    "})\n",
    "# 지금 동일한 키(customer_id)가 존재한다. \n",
    "\n",
    "#print(customers)\n",
    "#print(orders)"
   ]
  },
  {
   "cell_type": "code",
   "execution_count": 109,
   "id": "6f44463a",
   "metadata": {},
   "outputs": [
    {
     "name": "stdout",
     "output_type": "stream",
     "text": [
      "   customer_id   name  order_id product\n",
      "0            1  Alice       101  Laptop\n",
      "1            2    Bob       102  Tablet\n"
     ]
    },
    {
     "data": {
      "text/html": [
       "<div>\n",
       "<style scoped>\n",
       "    .dataframe tbody tr th:only-of-type {\n",
       "        vertical-align: middle;\n",
       "    }\n",
       "\n",
       "    .dataframe tbody tr th {\n",
       "        vertical-align: top;\n",
       "    }\n",
       "\n",
       "    .dataframe thead th {\n",
       "        text-align: right;\n",
       "    }\n",
       "</style>\n",
       "<table border=\"1\" class=\"dataframe\">\n",
       "  <thead>\n",
       "    <tr style=\"text-align: right;\">\n",
       "      <th></th>\n",
       "      <th>customer_id</th>\n",
       "      <th>name</th>\n",
       "      <th>order_id</th>\n",
       "      <th>product</th>\n",
       "    </tr>\n",
       "  </thead>\n",
       "  <tbody>\n",
       "    <tr>\n",
       "      <th>0</th>\n",
       "      <td>1</td>\n",
       "      <td>Alice</td>\n",
       "      <td>101</td>\n",
       "      <td>Laptop</td>\n",
       "    </tr>\n",
       "    <tr>\n",
       "      <th>1</th>\n",
       "      <td>2</td>\n",
       "      <td>Bob</td>\n",
       "      <td>102</td>\n",
       "      <td>Tablet</td>\n",
       "    </tr>\n",
       "  </tbody>\n",
       "</table>\n",
       "</div>"
      ],
      "text/plain": [
       "   customer_id   name  order_id product\n",
       "0            1  Alice       101  Laptop\n",
       "1            2    Bob       102  Tablet"
      ]
     },
     "execution_count": 109,
     "metadata": {},
     "output_type": "execute_result"
    }
   ],
   "source": [
    "result_1 = pd.merge(customers,orders, on='customer_id',how='inner')\n",
    "print(result_1)\n",
    "result_1"
   ]
  },
  {
   "cell_type": "code",
   "execution_count": null,
   "id": "4e6f3909",
   "metadata": {},
   "outputs": [
    {
     "name": "stdout",
     "output_type": "stream",
     "text": [
      "   customer_id     name  order_id product\n",
      "0            1    Alice     101.0  Laptop\n",
      "1            2      Bob     102.0  Tablet\n",
      "2            3  Charlie       NaN     NaN\n"
     ]
    }
   ],
   "source": [
    "result_2 = pd.merge(customers, orders, on='customer_id',how='left')\n",
    "print(result_2)"
   ]
  },
  {
   "cell_type": "code",
   "execution_count": 111,
   "id": "d4d78a0e",
   "metadata": {},
   "outputs": [
    {
     "name": "stdout",
     "output_type": "stream",
     "text": [
      "   customer_id   name  order_id     product\n",
      "0            1  Alice       101      Laptop\n",
      "1            2    Bob       102      Tablet\n",
      "2            4    NaN       103  Smartphone\n"
     ]
    }
   ],
   "source": [
    "result_3 = pd.merge(customers, orders, on='customer_id',how='right')\n",
    "print(result_3)"
   ]
  },
  {
   "cell_type": "markdown",
   "id": "65d0ea04",
   "metadata": {},
   "source": [
    "# merge와 concat 차이점\n",
    "\n"
   ]
  },
  {
   "cell_type": "markdown",
   "id": "6b936f18",
   "metadata": {},
   "source": [
    "데이터 분포 확인\n",
    "\n",
    "(히스토그램, 박스플롯)\n",
    "\n",
    "- 박스플롯(Boxplot)\n",
    "\n",
    "히스토그램과 박스플롯의 차이점\n",
    "\n",
    "\n",
    "- 데이터 탐색적 분석(EDA)을 위한 시각화 기법\n",
    "    - EDA는 데이터를 시각적으로 분석\n",
    "    - 패턴 관계 이상치 분포 "
   ]
  },
  {
   "cell_type": "markdown",
   "id": "937e8dbc",
   "metadata": {},
   "source": [
    "id를 기준으로 \n",
    "이 데이터 eda를 해봐라\n",
    "\n",
    "어떤 칼럼과 관계가 있는지 \n",
    "\n",
    "관계에 대한 처리를 그래프\n",
    "\n",
    "성별, 나이, 수익, 소비점수에 영향을 줄 수 있는 ?\n",
    "\n",
    "가설을 세우기"
   ]
  },
  {
   "cell_type": "code",
   "execution_count": null,
   "id": "f7a2c4cd",
   "metadata": {},
   "outputs": [],
   "source": []
  }
 ],
 "metadata": {
  "kernelspec": {
   "display_name": ".venv",
   "language": "python",
   "name": "python3"
  },
  "language_info": {
   "codemirror_mode": {
    "name": "ipython",
    "version": 3
   },
   "file_extension": ".py",
   "mimetype": "text/x-python",
   "name": "python",
   "nbconvert_exporter": "python",
   "pygments_lexer": "ipython3",
   "version": "3.13.4"
  }
 },
 "nbformat": 4,
 "nbformat_minor": 5
}
